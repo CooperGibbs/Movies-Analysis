{
 "cells": [
  {
   "cell_type": "code",
   "execution_count": 28,
   "metadata": {},
   "outputs": [],
   "source": [
    "import pandas as pd\n",
    "import numpy as np\n",
    "from collections import Counter\n",
    "from datetime import datetime\n",
    "\n",
    "movies_df = pd.read_csv('data/movies.csv')\n",
    "ratings_df = pd.read_csv('data/ratings.csv')\n",
    "tags_df = pd.read_csv('data/tags.csv')\n"
   ]
  },
  {
   "cell_type": "code",
   "execution_count": 2,
   "metadata": {},
   "outputs": [
    {
     "data": {
      "text/html": [
       "<div>\n",
       "<style scoped>\n",
       "    .dataframe tbody tr th:only-of-type {\n",
       "        vertical-align: middle;\n",
       "    }\n",
       "\n",
       "    .dataframe tbody tr th {\n",
       "        vertical-align: top;\n",
       "    }\n",
       "\n",
       "    .dataframe thead th {\n",
       "        text-align: right;\n",
       "    }\n",
       "</style>\n",
       "<table border=\"1\" class=\"dataframe\">\n",
       "  <thead>\n",
       "    <tr style=\"text-align: right;\">\n",
       "      <th></th>\n",
       "      <th>movieId</th>\n",
       "      <th>title</th>\n",
       "      <th>genres</th>\n",
       "    </tr>\n",
       "  </thead>\n",
       "  <tbody>\n",
       "    <tr>\n",
       "      <th>0</th>\n",
       "      <td>1</td>\n",
       "      <td>Toy Story (1995)</td>\n",
       "      <td>Adventure|Animation|Children|Comedy|Fantasy</td>\n",
       "    </tr>\n",
       "    <tr>\n",
       "      <th>1</th>\n",
       "      <td>2</td>\n",
       "      <td>Jumanji (1995)</td>\n",
       "      <td>Adventure|Children|Fantasy</td>\n",
       "    </tr>\n",
       "    <tr>\n",
       "      <th>2</th>\n",
       "      <td>3</td>\n",
       "      <td>Grumpier Old Men (1995)</td>\n",
       "      <td>Comedy|Romance</td>\n",
       "    </tr>\n",
       "    <tr>\n",
       "      <th>3</th>\n",
       "      <td>4</td>\n",
       "      <td>Waiting to Exhale (1995)</td>\n",
       "      <td>Comedy|Drama|Romance</td>\n",
       "    </tr>\n",
       "    <tr>\n",
       "      <th>4</th>\n",
       "      <td>5</td>\n",
       "      <td>Father of the Bride Part II (1995)</td>\n",
       "      <td>Comedy</td>\n",
       "    </tr>\n",
       "  </tbody>\n",
       "</table>\n",
       "</div>"
      ],
      "text/plain": [
       "   movieId                               title  \\\n",
       "0        1                    Toy Story (1995)   \n",
       "1        2                      Jumanji (1995)   \n",
       "2        3             Grumpier Old Men (1995)   \n",
       "3        4            Waiting to Exhale (1995)   \n",
       "4        5  Father of the Bride Part II (1995)   \n",
       "\n",
       "                                        genres  \n",
       "0  Adventure|Animation|Children|Comedy|Fantasy  \n",
       "1                   Adventure|Children|Fantasy  \n",
       "2                               Comedy|Romance  \n",
       "3                         Comedy|Drama|Romance  \n",
       "4                                       Comedy  "
      ]
     },
     "execution_count": 2,
     "metadata": {},
     "output_type": "execute_result"
    }
   ],
   "source": [
    "movies_df.head()"
   ]
  },
  {
   "cell_type": "code",
   "execution_count": 3,
   "metadata": {},
   "outputs": [
    {
     "data": {
      "text/html": [
       "<div>\n",
       "<style scoped>\n",
       "    .dataframe tbody tr th:only-of-type {\n",
       "        vertical-align: middle;\n",
       "    }\n",
       "\n",
       "    .dataframe tbody tr th {\n",
       "        vertical-align: top;\n",
       "    }\n",
       "\n",
       "    .dataframe thead th {\n",
       "        text-align: right;\n",
       "    }\n",
       "</style>\n",
       "<table border=\"1\" class=\"dataframe\">\n",
       "  <thead>\n",
       "    <tr style=\"text-align: right;\">\n",
       "      <th></th>\n",
       "      <th>userId</th>\n",
       "      <th>movieId</th>\n",
       "      <th>rating</th>\n",
       "      <th>timestamp</th>\n",
       "    </tr>\n",
       "  </thead>\n",
       "  <tbody>\n",
       "    <tr>\n",
       "      <th>0</th>\n",
       "      <td>1</td>\n",
       "      <td>307</td>\n",
       "      <td>3.5</td>\n",
       "      <td>1256677221</td>\n",
       "    </tr>\n",
       "    <tr>\n",
       "      <th>1</th>\n",
       "      <td>1</td>\n",
       "      <td>481</td>\n",
       "      <td>3.5</td>\n",
       "      <td>1256677456</td>\n",
       "    </tr>\n",
       "    <tr>\n",
       "      <th>2</th>\n",
       "      <td>1</td>\n",
       "      <td>1091</td>\n",
       "      <td>1.5</td>\n",
       "      <td>1256677471</td>\n",
       "    </tr>\n",
       "    <tr>\n",
       "      <th>3</th>\n",
       "      <td>1</td>\n",
       "      <td>1257</td>\n",
       "      <td>4.5</td>\n",
       "      <td>1256677460</td>\n",
       "    </tr>\n",
       "    <tr>\n",
       "      <th>4</th>\n",
       "      <td>1</td>\n",
       "      <td>1449</td>\n",
       "      <td>4.5</td>\n",
       "      <td>1256677264</td>\n",
       "    </tr>\n",
       "  </tbody>\n",
       "</table>\n",
       "</div>"
      ],
      "text/plain": [
       "   userId  movieId  rating   timestamp\n",
       "0       1      307     3.5  1256677221\n",
       "1       1      481     3.5  1256677456\n",
       "2       1     1091     1.5  1256677471\n",
       "3       1     1257     4.5  1256677460\n",
       "4       1     1449     4.5  1256677264"
      ]
     },
     "execution_count": 3,
     "metadata": {},
     "output_type": "execute_result"
    }
   ],
   "source": [
    "ratings_df.head()"
   ]
  },
  {
   "cell_type": "code",
   "execution_count": 29,
   "metadata": {},
   "outputs": [
    {
     "data": {
      "text/html": [
       "<div>\n",
       "<style scoped>\n",
       "    .dataframe tbody tr th:only-of-type {\n",
       "        vertical-align: middle;\n",
       "    }\n",
       "\n",
       "    .dataframe tbody tr th {\n",
       "        vertical-align: top;\n",
       "    }\n",
       "\n",
       "    .dataframe thead th {\n",
       "        text-align: right;\n",
       "    }\n",
       "</style>\n",
       "<table border=\"1\" class=\"dataframe\">\n",
       "  <thead>\n",
       "    <tr style=\"text-align: right;\">\n",
       "      <th></th>\n",
       "      <th>userId</th>\n",
       "      <th>movieId</th>\n",
       "      <th>tag</th>\n",
       "      <th>timestamp</th>\n",
       "    </tr>\n",
       "  </thead>\n",
       "  <tbody>\n",
       "    <tr>\n",
       "      <th>0</th>\n",
       "      <td>14</td>\n",
       "      <td>110</td>\n",
       "      <td>epic</td>\n",
       "      <td>1443148538</td>\n",
       "    </tr>\n",
       "    <tr>\n",
       "      <th>1</th>\n",
       "      <td>14</td>\n",
       "      <td>110</td>\n",
       "      <td>Medieval</td>\n",
       "      <td>1443148532</td>\n",
       "    </tr>\n",
       "    <tr>\n",
       "      <th>2</th>\n",
       "      <td>14</td>\n",
       "      <td>260</td>\n",
       "      <td>sci-fi</td>\n",
       "      <td>1442169410</td>\n",
       "    </tr>\n",
       "    <tr>\n",
       "      <th>3</th>\n",
       "      <td>14</td>\n",
       "      <td>260</td>\n",
       "      <td>space action</td>\n",
       "      <td>1442169421</td>\n",
       "    </tr>\n",
       "    <tr>\n",
       "      <th>4</th>\n",
       "      <td>14</td>\n",
       "      <td>318</td>\n",
       "      <td>imdb top 250</td>\n",
       "      <td>1442615195</td>\n",
       "    </tr>\n",
       "  </tbody>\n",
       "</table>\n",
       "</div>"
      ],
      "text/plain": [
       "   userId  movieId           tag   timestamp\n",
       "0      14      110          epic  1443148538\n",
       "1      14      110      Medieval  1443148532\n",
       "2      14      260        sci-fi  1442169410\n",
       "3      14      260  space action  1442169421\n",
       "4      14      318  imdb top 250  1442615195"
      ]
     },
     "execution_count": 29,
     "metadata": {},
     "output_type": "execute_result"
    }
   ],
   "source": [
    "tags_df.head()"
   ]
  },
  {
   "cell_type": "code",
   "execution_count": 6,
   "metadata": {},
   "outputs": [],
   "source": [
    "merged_df = pd.merge(movies_df, ratings_df, on='movieId', how='inner')"
   ]
  },
  {
   "cell_type": "code",
   "execution_count": 7,
   "metadata": {},
   "outputs": [
    {
     "data": {
      "text/html": [
       "<div>\n",
       "<style scoped>\n",
       "    .dataframe tbody tr th:only-of-type {\n",
       "        vertical-align: middle;\n",
       "    }\n",
       "\n",
       "    .dataframe tbody tr th {\n",
       "        vertical-align: top;\n",
       "    }\n",
       "\n",
       "    .dataframe thead th {\n",
       "        text-align: right;\n",
       "    }\n",
       "</style>\n",
       "<table border=\"1\" class=\"dataframe\">\n",
       "  <thead>\n",
       "    <tr style=\"text-align: right;\">\n",
       "      <th></th>\n",
       "      <th>movieId</th>\n",
       "      <th>title</th>\n",
       "      <th>genres</th>\n",
       "      <th>userId</th>\n",
       "      <th>rating</th>\n",
       "      <th>timestamp</th>\n",
       "    </tr>\n",
       "  </thead>\n",
       "  <tbody>\n",
       "    <tr>\n",
       "      <th>0</th>\n",
       "      <td>1</td>\n",
       "      <td>Toy Story (1995)</td>\n",
       "      <td>Adventure|Animation|Children|Comedy|Fantasy</td>\n",
       "      <td>4</td>\n",
       "      <td>4.0</td>\n",
       "      <td>1113765937</td>\n",
       "    </tr>\n",
       "    <tr>\n",
       "      <th>1</th>\n",
       "      <td>1</td>\n",
       "      <td>Toy Story (1995)</td>\n",
       "      <td>Adventure|Animation|Children|Comedy|Fantasy</td>\n",
       "      <td>10</td>\n",
       "      <td>5.0</td>\n",
       "      <td>948885850</td>\n",
       "    </tr>\n",
       "    <tr>\n",
       "      <th>2</th>\n",
       "      <td>1</td>\n",
       "      <td>Toy Story (1995)</td>\n",
       "      <td>Adventure|Animation|Children|Comedy|Fantasy</td>\n",
       "      <td>14</td>\n",
       "      <td>4.5</td>\n",
       "      <td>1442169375</td>\n",
       "    </tr>\n",
       "    <tr>\n",
       "      <th>3</th>\n",
       "      <td>1</td>\n",
       "      <td>Toy Story (1995)</td>\n",
       "      <td>Adventure|Animation|Children|Comedy|Fantasy</td>\n",
       "      <td>15</td>\n",
       "      <td>4.0</td>\n",
       "      <td>1370810063</td>\n",
       "    </tr>\n",
       "    <tr>\n",
       "      <th>4</th>\n",
       "      <td>1</td>\n",
       "      <td>Toy Story (1995)</td>\n",
       "      <td>Adventure|Animation|Children|Comedy|Fantasy</td>\n",
       "      <td>22</td>\n",
       "      <td>4.0</td>\n",
       "      <td>1237622631</td>\n",
       "    </tr>\n",
       "  </tbody>\n",
       "</table>\n",
       "</div>"
      ],
      "text/plain": [
       "   movieId             title                                       genres  \\\n",
       "0        1  Toy Story (1995)  Adventure|Animation|Children|Comedy|Fantasy   \n",
       "1        1  Toy Story (1995)  Adventure|Animation|Children|Comedy|Fantasy   \n",
       "2        1  Toy Story (1995)  Adventure|Animation|Children|Comedy|Fantasy   \n",
       "3        1  Toy Story (1995)  Adventure|Animation|Children|Comedy|Fantasy   \n",
       "4        1  Toy Story (1995)  Adventure|Animation|Children|Comedy|Fantasy   \n",
       "\n",
       "   userId  rating   timestamp  \n",
       "0       4     4.0  1113765937  \n",
       "1      10     5.0   948885850  \n",
       "2      14     4.5  1442169375  \n",
       "3      15     4.0  1370810063  \n",
       "4      22     4.0  1237622631  "
      ]
     },
     "execution_count": 7,
     "metadata": {},
     "output_type": "execute_result"
    }
   ],
   "source": [
    "merged_df.head()"
   ]
  },
  {
   "cell_type": "code",
   "execution_count": 8,
   "metadata": {},
   "outputs": [
    {
     "name": "stdout",
     "output_type": "stream",
     "text": [
      "        movieId  count                                      title\n",
      "0           318  97999           Shawshank Redemption, The (1994)\n",
      "97999       356  97040                        Forrest Gump (1994)\n",
      "195039      296  92406                        Pulp Fiction (1994)\n",
      "287445      593  87899           Silence of the Lambs, The (1991)\n",
      "375344     2571  84545                         Matrix, The (1999)\n",
      "459889      260  81815  Star Wars: Episode IV - A New Hope (1977)\n",
      "541704      480  76451                       Jurassic Park (1993)\n",
      "618155      527  71516                    Schindler's List (1993)\n",
      "689671      110  68803                          Braveheart (1995)\n",
      "758474        1  68469                           Toy Story (1995)\n"
     ]
    }
   ],
   "source": [
    "def most_rated_movies(data, n):\n",
    "    movie_rating_count = data.groupby('movieId')['rating'].count().reset_index()\n",
    "    movie_rating_count.columns = ['movieId', 'count']\n",
    "    top_n_most_rated_movies = movie_rating_count.nlargest(n, 'count')\n",
    "    return pd.merge(top_n_most_rated_movies, data[['movieId', 'title']], on='movieId').drop_duplicates()\n",
    "\n",
    "# Example: Top 10 most-rated movies\n",
    "print(most_rated_movies(merged_df, 10))\n"
   ]
  },
  {
   "cell_type": "code",
   "execution_count": 9,
   "metadata": {},
   "outputs": [
    {
     "name": "stdout",
     "output_type": "stream",
     "text": [
      "        movieId  count      mean                                    title\n",
      "0        171011    853  4.486518                   Planet Earth II (2016)\n",
      "853      159817   1384  4.458092                      Planet Earth (2006)\n",
      "2237        318  97999  4.424188         Shawshank Redemption, The (1994)\n",
      "100236   170705    984  4.399898                  Band of Brothers (2001)\n",
      "101220   174053   1074  4.350559     Black Mirror: White Christmas (2014)\n",
      "102294   171495    157  4.343949                                   Cosmos\n",
      "102451   172591    421  4.339667  The Godfather Trilogy: 1972-1990 (1992)\n",
      "102872      858  60904  4.332893                    Godfather, The (1972)\n",
      "163776       50  62180  4.291959               Usual Suspects, The (1995)\n",
      "225956   176601    180  4.263889                             Black Mirror\n"
     ]
    }
   ],
   "source": [
    "def highest_rated_movies(data, n, min_ratings):\n",
    "    movie_avg_rating = data.groupby('movieId')['rating'].agg(['count', 'mean']).reset_index()\n",
    "    movie_avg_rating_filtered = movie_avg_rating[movie_avg_rating['count'] >= min_ratings]\n",
    "    top_n_highest_rated_movies = movie_avg_rating_filtered.nlargest(n, 'mean')\n",
    "    return pd.merge(top_n_highest_rated_movies, data[['movieId', 'title']], on='movieId').drop_duplicates()\n",
    "\n",
    "# Example: Top 10 highest-rated movies with a minimum of 100 ratings\n",
    "print(highest_rated_movies(merged_df, 10, 100))\n"
   ]
  },
  {
   "cell_type": "code",
   "execution_count": 10,
   "metadata": {},
   "outputs": [
    {
     "name": "stdout",
     "output_type": "stream",
     "text": [
      "                                            genres  rating\n",
      "481   Action|Drama|Mystery|Romance|Sci-Fi|Thriller   5.000\n",
      "669    Adventure|Children|Comedy|Documentary|Drama   5.000\n",
      "822            Adventure|Drama|Romance|War|Western   5.000\n",
      "1234               Comedy|Fantasy|Romance|Thriller   4.625\n",
      "300                 Action|Children|Drama|Thriller   4.500\n"
     ]
    }
   ],
   "source": [
    "def popular_genres(data, n):\n",
    "    genre_ratings = data.explode('genres').groupby('genres')['rating'].mean().reset_index()\n",
    "    return genre_ratings.nlargest(n, 'rating')\n",
    "\n",
    "# Example: Top 5 popular genres\n",
    "print(popular_genres(merged_df, 5))\n"
   ]
  },
  {
   "cell_type": "code",
   "execution_count": 11,
   "metadata": {},
   "outputs": [
    {
     "name": "stdout",
     "output_type": "stream",
     "text": [
      "       year  count  mean_rating\n",
      "0       6.0      1     3.000000\n",
      "1     201.0      2     2.166667\n",
      "2    1874.0      1     2.550000\n",
      "3    1878.0      1     2.928571\n",
      "4    1883.0      1     2.300000\n",
      "..      ...    ...          ...\n",
      "131  2014.0   2205     3.619954\n",
      "132  2015.0   2233     3.561680\n",
      "133  2016.0   2143     3.532930\n",
      "134  2017.0   1819     3.516753\n",
      "135  2018.0    826     3.386943\n",
      "\n",
      "[136 rows x 3 columns]\n"
     ]
    }
   ],
   "source": [
    "def extract_year(title):\n",
    "    try:\n",
    "        return int(title.strip()[-5:-1])\n",
    "    except:\n",
    "        return None\n",
    "\n",
    "def year_wise_analysis(data):\n",
    "    data['year'] = data['title'].apply(extract_year)\n",
    "    year_movie_count = data.groupby('year')['movieId'].nunique().reset_index()\n",
    "    year_movie_count.columns = ['year', 'count']\n",
    "    year_avg_rating = data.groupby('year')['rating'].mean().reset_index()\n",
    "    year_avg_rating.columns = ['year', 'mean_rating']\n",
    "    return pd.merge(year_movie_count, year_avg_rating, on='year')\n",
    "\n",
    "# Year-wise analysis\n",
    "print(year_wise_analysis(merged_df))\n"
   ]
  },
  {
   "cell_type": "code",
   "execution_count": 30,
   "metadata": {},
   "outputs": [
    {
     "name": "stdout",
     "output_type": "stream",
     "text": [
      "                  tag  count\n",
      "0              sci-fi   9400\n",
      "1         atmospheric   6430\n",
      "2              action   6219\n",
      "3              comedy   5923\n",
      "4             surreal   5299\n",
      "5     based on a book   5294\n",
      "6               funny   4864\n",
      "7        twist ending   4844\n",
      "8  visually appealing   4333\n",
      "9            dystopia   4268\n"
     ]
    }
   ],
   "source": [
    "def tag_analysis(tags, n):\n",
    "    tag_counts = tags['tag'].value_counts().reset_index()\n",
    "    tag_counts.columns = ['tag', 'count']\n",
    "    return tag_counts.nlargest(n, 'count')\n",
    "\n",
    "# Example: Top 10 most common tags\n",
    "print(tag_analysis(tags_df, 10))\n"
   ]
  },
  {
   "cell_type": "code",
   "execution_count": 31,
   "metadata": {},
   "outputs": [
    {
     "name": "stdout",
     "output_type": "stream",
     "text": [
      "        userId  num_ratings  avg_rating\n",
      "123099  123100        23715    3.130635\n",
      "117489  117490         9279    3.278424\n",
      "134595  134596         8381    3.198306\n",
      "212342  212343         7884    2.588026\n",
      "242682  242683         7515    3.208317\n",
      "111907  111908         6645    1.524981\n",
      "77608    77609         6398    2.812207\n",
      "63782    63783         6346    3.485424\n",
      "172356  172357         5868    2.442059\n",
      "141954  141955         5810    2.874785\n"
     ]
    }
   ],
   "source": [
    "def user_activity(data, n):\n",
    "    user_rating_count = data.groupby('userId')['rating'].agg(['count', 'mean']).reset_index()\n",
    "    user_rating_count.columns = ['userId', 'num_ratings', 'avg_rating']\n",
    "    top_n_active_users = user_rating_count.nlargest(n, 'num_ratings')\n",
    "    return top_n_active_users\n",
    "\n",
    "# Example: Top 10 most active users\n",
    "print(user_activity(merged_df, 10))"
   ]
  },
  {
   "cell_type": "code",
   "execution_count": 32,
   "metadata": {},
   "outputs": [
    {
     "name": "stdout",
     "output_type": "stream",
     "text": [
      "                  genres  rating\n",
      "6  Comedy|Fantasy|Sci-Fi     4.5\n",
      "7         Comedy|Romance     4.5\n",
      "2           Action|Drama     4.0\n",
      "8         Comedy|Western     4.0\n",
      "9                  Drama     4.0\n"
     ]
    }
   ],
   "source": [
    "def favorite_genres(data, user_id, n):\n",
    "    user_data = data[data['userId'] == user_id]\n",
    "    genre_ratings = user_data.explode('genres').groupby('genres')['rating'].mean().reset_index()\n",
    "    return genre_ratings.nlargest(n, 'rating')\n",
    "\n",
    "# Example: Top 5 favorite genres for user ID 1\n",
    "print(favorite_genres(merged_df, 1, 5))"
   ]
  },
  {
   "cell_type": "code",
   "execution_count": 33,
   "metadata": {},
   "outputs": [
    {
     "name": "stdout",
     "output_type": "stream",
     "text": [
      "User ID 123100 - Top 5 Favorite Genres:\n",
      "                                                genres  rating\n",
      "84   Action|Adventure|Drama|Fantasy|Romance|Sci-Fi|...     5.0\n",
      "430  Adventure|Animation|Comedy|Fantasy|Romance|Sci-Fi     5.0\n",
      "714                         Children|Crime|Documentary     5.0\n",
      "822                       Comedy|Drama|Romance|Western     5.0\n",
      "942                                      Crime|Romance     5.0\n",
      "\n",
      "User ID 117490 - Top 5 Favorite Genres:\n",
      "                                          genres  rating\n",
      "52                   Action|Adventure|Crime|IMAX     5.0\n",
      "395     Animation|Children|Drama|Fantasy|Musical     5.0\n",
      "450               Children|Drama|Fantasy|Romance     5.0\n",
      "59                Action|Adventure|Drama|Fantasy     4.5\n",
      "62   Action|Adventure|Drama|Fantasy|Mystery|IMAX     4.5\n",
      "\n",
      "User ID 134596 - Top 5 Favorite Genres:\n",
      "                                                genres  rating\n",
      "356                           Adventure|Comedy|Musical     4.5\n",
      "380             Adventure|Drama|Fantasy|Mystery|Sci-Fi     4.5\n",
      "566              Comedy|Crime|Mystery|Romance|Thriller     4.5\n",
      "12   Action|Adventure|Animation|Children|Fantasy|Sc...     4.0\n",
      "16            Action|Adventure|Animation|Drama|Fantasy     4.0\n",
      "\n",
      "User ID 212343 - Top 5 Favorite Genres:\n",
      "                                    genres  rating\n",
      "274     Adventure|Children|Fantasy|Musical     5.0\n",
      "369       Animation|Comedy|Fantasy|Musical     5.0\n",
      "415                 Comedy|Crime|Drama|War     5.0\n",
      "658                        Musical|Romance     5.0\n",
      "38   Action|Adventure|Crime|Drama|Thriller     4.5\n",
      "\n",
      "User ID 242683 - Top 5 Favorite Genres:\n",
      "                                        genres  rating\n",
      "14    Action|Adventure|Animation|Drama|Fantasy     5.0\n",
      "43     Action|Adventure|Comedy|Fantasy|Romance     5.0\n",
      "86   Action|Adventure|Mystery|Romance|Thriller     5.0\n",
      "288                Adventure|Animation|Fantasy     5.0\n",
      "401  Animation|Children|Comedy|Musical|Romance     5.0\n",
      "\n",
      "User ID 111908 - Top 5 Favorite Genres:\n",
      "                                          genres  rating\n",
      "37      Action|Adventure|Children|Mystery|Sci-Fi     5.0\n",
      "50        Action|Adventure|Comedy|Fantasy|Horror     5.0\n",
      "53       Action|Adventure|Comedy|Fantasy|Romance     5.0\n",
      "76   Action|Adventure|Drama|Fantasy|Mystery|IMAX     5.0\n",
      "126        Action|Animation|Children|Comedy|IMAX     5.0\n",
      "\n",
      "User ID 77609 - Top 5 Favorite Genres:\n",
      "                                        genres  rating\n",
      "76   Action|Adventure|Mystery|Romance|Thriller     5.0\n",
      "267         Adventure|Children|Fantasy|Musical     5.0\n",
      "307       Adventure|Drama|Romance|Thriller|War     5.0\n",
      "392             Children|Drama|Fantasy|Romance     5.0\n",
      "404                 Comedy|Crime|Drama|Musical     5.0\n",
      "\n",
      "User ID 63783 - Top 5 Favorite Genres:\n",
      "                                       genres  rating\n",
      "30          Action|Adventure|Comedy|Drama|War     5.0\n",
      "34    Action|Adventure|Comedy|Fantasy|Romance     5.0\n",
      "63             Action|Adventure|Drama|Western     5.0\n",
      "72  Action|Adventure|Mystery|Romance|Thriller     5.0\n",
      "90            Action|Animation|Children|Crime     5.0\n",
      "\n",
      "User ID 172357 - Top 5 Favorite Genres:\n",
      "                                        genres  rating\n",
      "20    Action|Adventure|Children|Mystery|Sci-Fi     5.0\n",
      "37    Action|Adventure|Comedy|Romance|Thriller     5.0\n",
      "77   Action|Adventure|Mystery|Romance|Thriller     5.0\n",
      "102                    Action|Animation|Comedy     5.0\n",
      "130      Action|Comedy|Fantasy|Musical|Romance     5.0\n",
      "\n",
      "User ID 141955 - Top 5 Favorite Genres:\n",
      "                                             genres  rating\n",
      "510                  Fantasy|Horror|Sci-Fi|Thriller     5.0\n",
      "133                          Action|Crime|Film-Noir     4.5\n",
      "319            Comedy|Crime|Drama|Film-Noir|Musical     4.5\n",
      "12              Action|Adventure|Comedy|Crime|Drama     4.0\n",
      "22   Action|Adventure|Comedy|Drama|Romance|Thriller     4.0\n",
      "\n"
     ]
    }
   ],
   "source": [
    "top_active_users = user_activity(merged_df, 10)\n",
    "for user_id in top_active_users['userId']:\n",
    "    print(f\"User ID {user_id} - Top 5 Favorite Genres:\")\n",
    "    print(favorite_genres(merged_df, user_id, 5))\n",
    "    print()"
   ]
  }
 ],
 "metadata": {
  "kernelspec": {
   "display_name": "base",
   "language": "python",
   "name": "python3"
  },
  "language_info": {
   "codemirror_mode": {
    "name": "ipython",
    "version": 3
   },
   "file_extension": ".py",
   "mimetype": "text/x-python",
   "name": "python",
   "nbconvert_exporter": "python",
   "pygments_lexer": "ipython3",
   "version": "3.9.15"
  },
  "orig_nbformat": 4
 },
 "nbformat": 4,
 "nbformat_minor": 2
}
