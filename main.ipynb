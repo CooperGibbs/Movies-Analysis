{
 "cells": [
  {
   "cell_type": "code",
   "execution_count": 1,
   "metadata": {},
   "outputs": [],
   "source": [
    "from pyspark.sql import SparkSession\n",
    "import pyspark.sql.functions as F\n",
    "#PYSPARK_DRIVER_PYTHON = 3.85\n",
    "#PYSPARK_PYTHON = 3.85\n",
    "import os\n",
    "import sys\n",
    "#import pyspark as spark\n",
    "\n",
    "os.environ['PYSPARK_PYTHON'] = sys.executable\n",
    "os.environ['PYSPARK_DRIVER_PYTHON'] = sys.executable\n",
    "\n",
    "# Same code as shown in SimpleApp.py\n"
   ]
  },
  {
   "cell_type": "code",
   "execution_count": 2,
   "metadata": {},
   "outputs": [],
   "source": [
    "def open_with_spark(log_file=\"data/movies.csv\", app_name=\"movieAnalysis\"):\n",
    "    spark = SparkSession.builder.appName(app_name).getOrCreate()\n",
    "    df = spark.read.option(\"header\",True).csv(log_file).cache()\n",
    "    return df"
   ]
  },
  {
   "cell_type": "code",
   "execution_count": 3,
   "metadata": {},
   "outputs": [],
   "source": [
    "# 2. Join Dataframes READABLE version, more memory needed\n",
    "def join_ratings_and_movies_readable():  \n",
    "    df_movie = open_with_spark()\n",
    "    df_ratings = open_with_spark(log_file=\"data/ratings.csv\", app_name=\"ratings\")\n",
    "    df_join = df_ratings.join(df_movie, \"movieID\")\n",
    "    return df_join\n",
    "    \n",
    "# 2. Join Dataframes\n",
    "def join_ratings_and_movies(): \n",
    "    return open_with_spark().join(open_with_spark(log_file=\"data/ratings.csv\", app_name=\"ratings\"), \"movieID\")"
   ]
  },
  {
   "cell_type": "code",
   "execution_count": 4,
   "metadata": {},
   "outputs": [
    {
     "name": "stderr",
     "output_type": "stream",
     "text": [
      "Setting default log level to \"WARN\".\n",
      "To adjust logging level use sc.setLogLevel(newLevel). For SparkR, use setLogLevel(newLevel).\n"
     ]
    },
    {
     "name": "stdout",
     "output_type": "stream",
     "text": [
      "23/04/13 17:39:49 WARN NativeCodeLoader: Unable to load native-hadoop library for your platform... using builtin-java classes where applicable\n",
      "23/04/13 17:39:56 WARN SparkSession: Using an existing Spark session; only runtime SQL configurations will take effect.\n"
     ]
    },
    {
     "name": "stderr",
     "output_type": "stream",
     "text": [
      "                                                                                \r"
     ]
    },
    {
     "data": {
      "text/plain": [
       "[Row(movieId='307', userId='1', rating='3.5', timestamp='1256677221', title='Three Colors: Blue (Trois couleurs: Bleu) (1993)', genres='Drama'),\n",
       " Row(movieId='481', userId='1', rating='3.5', timestamp='1256677456', title='Kalifornia (1993)', genres='Drama|Thriller'),\n",
       " Row(movieId='1091', userId='1', rating='1.5', timestamp='1256677471', title=\"Weekend at Bernie's (1989)\", genres='Comedy'),\n",
       " Row(movieId='1257', userId='1', rating='4.5', timestamp='1256677460', title='Better Off Dead... (1985)', genres='Comedy|Romance'),\n",
       " Row(movieId='1449', userId='1', rating='4.5', timestamp='1256677264', title='Waiting for Guffman (1996)', genres='Comedy')]"
      ]
     },
     "execution_count": 4,
     "metadata": {},
     "output_type": "execute_result"
    }
   ],
   "source": [
    "X = join_ratings_and_movies()\n",
    "X.head(5)"
   ]
  },
  {
   "cell_type": "code",
   "execution_count": 6,
   "metadata": {},
   "outputs": [
    {
     "name": "stderr",
     "output_type": "stream",
     "text": [
      "[Stage 5:=======>                                                   (1 + 7) / 8]\r"
     ]
    },
    {
     "name": "stdout",
     "output_type": "stream",
     "text": [
      "23/04/13 17:40:44 WARN MemoryStore: Not enough space to cache rdd_32_1 in memory! (computed 35.3 MiB so far)\n",
      "23/04/13 17:40:44 WARN BlockManager: Persisting block rdd_32_1 to disk instead.\n",
      "23/04/13 17:40:50 WARN MemoryStore: Not enough space to cache rdd_32_7 in memory! (computed 54.6 MiB so far)\n",
      "23/04/13 17:40:50 WARN BlockManager: Persisting block rdd_32_7 to disk instead.\n",
      "23/04/13 17:40:50 WARN MemoryStore: Not enough space to cache rdd_32_2 in memory! (computed 54.4 MiB so far)\n",
      "23/04/13 17:40:50 WARN BlockManager: Persisting block rdd_32_2 to disk instead.\n",
      "23/04/13 17:40:50 WARN MemoryStore: Not enough space to cache rdd_32_6 in memory! (computed 54.7 MiB so far)\n",
      "23/04/13 17:40:50 WARN BlockManager: Persisting block rdd_32_6 to disk instead.\n",
      "23/04/13 17:40:50 WARN MemoryStore: Not enough space to cache rdd_32_4 in memory! (computed 54.6 MiB so far)\n",
      "23/04/13 17:40:50 WARN BlockManager: Persisting block rdd_32_4 to disk instead.\n",
      "23/04/13 17:40:51 WARN MemoryStore: Not enough space to cache rdd_32_3 in memory! (computed 54.4 MiB so far)\n",
      "23/04/13 17:40:51 WARN BlockManager: Persisting block rdd_32_3 to disk instead.\n",
      "23/04/13 17:40:54 WARN MemoryStore: Not enough space to cache rdd_32_3 in memory! (computed 54.4 MiB so far)\n",
      "23/04/13 17:40:55 WARN MemoryStore: Not enough space to cache rdd_32_2 in memory! (computed 13.0 MiB so far)\n",
      "23/04/13 17:40:56 WARN MemoryStore: Not enough space to cache rdd_32_1 in memory! (computed 3.4 MiB so far)\n"
     ]
    },
    {
     "name": "stderr",
     "output_type": "stream",
     "text": [
      "                                                                                \r"
     ]
    },
    {
     "data": {
      "text/plain": [
       "Row(title='Shawshank Redemption, The (1994)', Num_ratings=97999)"
      ]
     },
     "execution_count": 6,
     "metadata": {},
     "output_type": "execute_result"
    }
   ],
   "source": [
    "df_updated = X.groupby(\"title\").agg(F.count(\"rating\")).withColumnRenamed(\"count(rating)\", \"Num_ratings\").sort(\"Num_ratings\", ascending=False)\n",
    "df_updated.limit(5)\n"
   ]
  },
  {
   "cell_type": "code",
   "execution_count": 6,
   "metadata": {},
   "outputs": [],
   "source": [
    "\"\"\"\n",
    "Returns the top N movies with the most reviews (ratings)\n",
    "\n",
    "\"\"\"\n",
    "# (may be necessary for @param type)\n",
    "import pyspark\n",
    "\n",
    "# 3. Most-rated movies\n",
    "def most_rated(df: pyspark.sql.dataframe.DataFrame, N=10):\n",
    "    return df.groupby(\"title\").agg(F.count(\"rating\")).withColumnRenamed(\"count(rating)\", \"Num_ratings\").sort(\"Num_ratings\", ascending=False).limit(N)\n",
    "\n",
    "# Function that does everything; can be used for timing or outputting or whatever\n",
    "def most_rated_complete(N=10):\n",
    "    JOINED = join_ratings_and_movies()\n",
    "    TOP_N = most_rated(JOINED, N)\n",
    "    return TOP_N\n"
   ]
  },
  {
   "cell_type": "code",
   "execution_count": 9,
   "metadata": {},
   "outputs": [
    {
     "name": "stdout",
     "output_type": "stream",
     "text": [
      "23/04/13 17:48:03 WARN SparkSession: Using an existing Spark session; only runtime SQL configurations will take effect.\n",
      "23/04/13 17:48:03 WARN CacheManager: Asked to cache already cached data.\n",
      "23/04/13 17:48:03 WARN SparkSession: Using an existing Spark session; only runtime SQL configurations will take effect.\n",
      "23/04/13 17:48:03 WARN CacheManager: Asked to cache already cached data.\n"
     ]
    },
    {
     "name": "stderr",
     "output_type": "stream",
     "text": [
      "[Stage 9:>                                                          (0 + 8) / 8]\r"
     ]
    },
    {
     "name": "stdout",
     "output_type": "stream",
     "text": [
      "23/04/13 17:48:30 WARN MemoryStore: Not enough space to cache rdd_92_1 in memory! (computed 54.3 MiB so far)\n",
      "23/04/13 17:48:30 WARN BlockManager: Persisting block rdd_92_1 to disk instead.\n",
      "23/04/13 17:48:30 WARN MemoryStore: Not enough space to cache rdd_92_4 in memory! (computed 54.6 MiB so far)\n",
      "23/04/13 17:48:30 WARN BlockManager: Persisting block rdd_92_4 to disk instead.\n",
      "23/04/13 17:48:31 WARN MemoryStore: Not enough space to cache rdd_92_6 in memory! (computed 54.7 MiB so far)\n",
      "23/04/13 17:48:31 WARN BlockManager: Persisting block rdd_92_6 to disk instead.\n",
      "23/04/13 17:48:31 WARN MemoryStore: Not enough space to cache rdd_92_7 in memory! (computed 54.6 MiB so far)\n",
      "23/04/13 17:48:31 WARN BlockManager: Persisting block rdd_92_7 to disk instead.\n",
      "23/04/13 17:48:31 WARN MemoryStore: Not enough space to cache rdd_92_3 in memory! (computed 54.4 MiB so far)\n",
      "23/04/13 17:48:31 WARN BlockManager: Persisting block rdd_92_3 to disk instead.\n",
      "23/04/13 17:48:31 WARN MemoryStore: Not enough space to cache rdd_92_2 in memory! (computed 54.4 MiB so far)\n",
      "23/04/13 17:48:31 WARN BlockManager: Persisting block rdd_92_2 to disk instead.\n",
      "23/04/13 17:48:31 WARN MemoryStore: Not enough space to cache rdd_92_5 in memory! (computed 54.7 MiB so far)\n",
      "23/04/13 17:48:31 WARN BlockManager: Persisting block rdd_92_5 to disk instead.\n",
      "23/04/13 17:48:31 WARN MemoryStore: Not enough space to cache rdd_92_0 in memory! (computed 54.4 MiB so far)\n",
      "23/04/13 17:48:31 WARN BlockManager: Persisting block rdd_92_0 to disk instead.\n",
      "23/04/13 17:48:37 WARN MemoryStore: Not enough space to cache rdd_92_1 in memory! (computed 35.3 MiB so far)\n",
      "23/04/13 17:48:37 WARN MemoryStore: Not enough space to cache rdd_92_2 in memory! (computed 35.2 MiB so far)\n",
      "23/04/13 17:48:37 WARN MemoryStore: Failed to reserve initial memory threshold of 1024.0 KiB for computing block rdd_92_0 in memory.\n",
      "23/04/13 17:48:37 WARN MemoryStore: Not enough space to cache rdd_92_0 in memory! (computed 384.0 B so far)\n",
      "23/04/13 17:48:38 WARN RowBasedKeyValueBatch: Calling spill() on RowBasedKeyValueBatch. Will not spill but return 0.\n"
     ]
    },
    {
     "name": "stderr",
     "output_type": "stream",
     "text": [
      "                                                                                \r"
     ]
    },
    {
     "data": {
      "text/plain": [
       "[Row(title='Shawshank Redemption, The (1994)', Num_ratings=97999),\n",
       " Row(title='Forrest Gump (1994)', Num_ratings=97040),\n",
       " Row(title='Pulp Fiction (1994)', Num_ratings=92406),\n",
       " Row(title='Silence of the Lambs, The (1991)', Num_ratings=87899),\n",
       " Row(title='Matrix, The (1999)', Num_ratings=84545),\n",
       " Row(title='Star Wars: Episode IV - A New Hope (1977)', Num_ratings=81815),\n",
       " Row(title='Jurassic Park (1993)', Num_ratings=76451),\n",
       " Row(title=\"Schindler's List (1993)\", Num_ratings=71516),\n",
       " Row(title='Braveheart (1995)', Num_ratings=68803),\n",
       " Row(title='Toy Story (1995)', Num_ratings=68469)]"
      ]
     },
     "execution_count": 9,
     "metadata": {},
     "output_type": "execute_result"
    }
   ],
   "source": [
    "A = most_rated_complete()\n",
    "A.head(10)"
   ]
  },
  {
   "cell_type": "code",
   "execution_count": 124,
   "metadata": {},
   "outputs": [],
   "source": [
    "df_join = df_ratings.join(df_movie, \"movieID\")"
   ]
  },
  {
   "cell_type": "code",
   "execution_count": 125,
   "metadata": {},
   "outputs": [
    {
     "name": "stderr",
     "output_type": "stream",
     "text": [
      "                                                                                \r"
     ]
    },
    {
     "data": {
      "text/plain": [
       "[Row(movieId='307', userId='1', rating='3.5', timestamp='1256677221', title='Three Colors: Blue (Trois couleurs: Bleu) (1993)', genres='Drama'),\n",
       " Row(movieId='481', userId='1', rating='3.5', timestamp='1256677456', title='Kalifornia (1993)', genres='Drama|Thriller'),\n",
       " Row(movieId='1091', userId='1', rating='1.5', timestamp='1256677471', title=\"Weekend at Bernie's (1989)\", genres='Comedy'),\n",
       " Row(movieId='1257', userId='1', rating='4.5', timestamp='1256677460', title='Better Off Dead... (1985)', genres='Comedy|Romance'),\n",
       " Row(movieId='1449', userId='1', rating='4.5', timestamp='1256677264', title='Waiting for Guffman (1996)', genres='Comedy')]"
      ]
     },
     "execution_count": 125,
     "metadata": {},
     "output_type": "execute_result"
    }
   ],
   "source": [
    "df_join.head(5)"
   ]
  }
 ],
 "metadata": {
  "kernelspec": {
   "display_name": "Python 3.9.7 ('base')",
   "language": "python",
   "name": "python3"
  },
  "language_info": {
   "codemirror_mode": {
    "name": "ipython",
    "version": 3
   },
   "file_extension": ".py",
   "mimetype": "text/x-python",
   "name": "python",
   "nbconvert_exporter": "python",
   "pygments_lexer": "ipython3",
   "version": "3.9.7"
  },
  "orig_nbformat": 4,
  "vscode": {
   "interpreter": {
    "hash": "af4521a1c734e7c65889f479bb79ece66303508270e0aa19c37418c08bff644d"
   }
  }
 },
 "nbformat": 4,
 "nbformat_minor": 2
}
